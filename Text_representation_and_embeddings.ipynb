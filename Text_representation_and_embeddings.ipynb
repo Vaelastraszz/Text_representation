{
  "nbformat": 4,
  "nbformat_minor": 0,
  "metadata": {
    "colab": {
      "name": "Text representation and embeddings.ipynb",
      "provenance": [],
      "include_colab_link": true
    },
    "kernelspec": {
      "name": "python3",
      "display_name": "Python 3"
    }
  },
  "cells": [
    {
      "cell_type": "markdown",
      "metadata": {
        "id": "view-in-github",
        "colab_type": "text"
      },
      "source": [
        "<a href=\"https://colab.research.google.com/github/Vaelastraszz/Text_representation/blob/master/Text_representation_and_embeddings.ipynb\" target=\"_parent\"><img src=\"https://colab.research.google.com/assets/colab-badge.svg\" alt=\"Open In Colab\"/></a>"
      ]
    },
    {
      "cell_type": "code",
      "metadata": {
        "id": "Al05fncqAduO",
        "colab_type": "code",
        "outputId": "8acb211e-19a4-44e4-8478-f11953a8579a",
        "colab": {
          "base_uri": "https://localhost:8080/",
          "height": 122
        }
      },
      "source": [
        "import sys\n",
        "import pandas as pd\n",
        "import matplotlib.pyplot as plt\n",
        "import numpy as np\n",
        "\n",
        "from google.colab import drive\n",
        "\n",
        "drive.mount('/content/gdrive')"
      ],
      "execution_count": 0,
      "outputs": [
        {
          "output_type": "stream",
          "text": [
            "Go to this URL in a browser: https://accounts.google.com/o/oauth2/auth?client_id=947318989803-6bn6qk8qdgf4n4g3pfee6491hc0brc4i.apps.googleusercontent.com&redirect_uri=urn%3Aietf%3Awg%3Aoauth%3A2.0%3Aoob&scope=email%20https%3A%2F%2Fwww.googleapis.com%2Fauth%2Fdocs.test%20https%3A%2F%2Fwww.googleapis.com%2Fauth%2Fdrive%20https%3A%2F%2Fwww.googleapis.com%2Fauth%2Fdrive.photos.readonly%20https%3A%2F%2Fwww.googleapis.com%2Fauth%2Fpeopleapi.readonly&response_type=code\n",
            "\n",
            "Enter your authorization code:\n",
            "··········\n",
            "Mounted at /content/gdrive\n"
          ],
          "name": "stdout"
        }
      ]
    },
    {
      "cell_type": "markdown",
      "metadata": {
        "id": "0xAYn1bWAqeW",
        "colab_type": "text"
      },
      "source": [
        "<h2> One hot encoding with hashing trick </h2>"
      ]
    },
    {
      "cell_type": "code",
      "metadata": {
        "id": "OxY20bmiAkOj",
        "colab_type": "code",
        "colab": {}
      },
      "source": [
        "samples = ['the cat sat on the bed', \"the dog ate my homework\"]\n",
        "\n",
        "dim = 1000\n",
        "max_lenght = 10"
      ],
      "execution_count": 0,
      "outputs": []
    },
    {
      "cell_type": "code",
      "metadata": {
        "id": "TZfbrxWzLOEb",
        "colab_type": "code",
        "colab": {}
      },
      "source": [
        "results = np.zeros((len(samples), max_lenght, dim))"
      ],
      "execution_count": 0,
      "outputs": []
    },
    {
      "cell_type": "code",
      "metadata": {
        "id": "E9zzbbeQLlZB",
        "colab_type": "code",
        "colab": {}
      },
      "source": [
        "for i, sample in enumerate(samples):\n",
        "    for j, word in list(enumerate(sample.split()))[:max_lenght]:\n",
        "        index = abs(hash(word)) % dim\n",
        "        results[i,j, index] = 1"
      ],
      "execution_count": 0,
      "outputs": []
    },
    {
      "cell_type": "markdown",
      "metadata": {
        "id": "X4mzUTUJM2NZ",
        "colab_type": "text"
      },
      "source": [
        "<h2> Words Embedding </h2>"
      ]
    },
    {
      "cell_type": "markdown",
      "metadata": {
        "id": "U1XGR9dUz1ra",
        "colab_type": "text"
      },
      "source": [
        "<h3> Loading data </h3>"
      ]
    },
    {
      "cell_type": "code",
      "metadata": {
        "id": "47KaikG-MQrN",
        "colab_type": "code",
        "colab": {}
      },
      "source": [
        "from keras.datasets import imdb\n",
        "from keras import preprocessing"
      ],
      "execution_count": 0,
      "outputs": []
    },
    {
      "cell_type": "code",
      "metadata": {
        "id": "-uMiAJEUy2oc",
        "colab_type": "code",
        "colab": {}
      },
      "source": [
        "max_features = 10000\n",
        "maxlen = 20"
      ],
      "execution_count": 0,
      "outputs": []
    },
    {
      "cell_type": "code",
      "metadata": {
        "id": "ihxmv_Nly70w",
        "colab_type": "code",
        "outputId": "d5c36fbf-31ce-44db-c42f-d2b4be38a588",
        "colab": {
          "base_uri": "https://localhost:8080/",
          "height": 51
        }
      },
      "source": [
        "(x_train,y_train),(x_test,y_test) = imdb.load_data(num_words=max_features)"
      ],
      "execution_count": 0,
      "outputs": [
        {
          "output_type": "stream",
          "text": [
            "Downloading data from https://s3.amazonaws.com/text-datasets/imdb.npz\n",
            "17465344/17464789 [==============================] - 1s 0us/step\n"
          ],
          "name": "stdout"
        }
      ]
    },
    {
      "cell_type": "code",
      "metadata": {
        "id": "jxufX0dzzKEj",
        "colab_type": "code",
        "colab": {}
      },
      "source": [
        "x_train = preprocessing.sequence.pad_sequences(x_train, maxlen=maxlen)\n",
        "x_test = preprocessing.sequence.pad_sequences(x_test, maxlen=maxlen)"
      ],
      "execution_count": 0,
      "outputs": []
    },
    {
      "cell_type": "markdown",
      "metadata": {
        "id": "4znNpgcF0Hoi",
        "colab_type": "text"
      },
      "source": [
        "<h3> Embedding layer preparation (flat dense layer) + model </h3>"
      ]
    },
    {
      "cell_type": "code",
      "metadata": {
        "id": "Mx_FV53Dz9Zy",
        "colab_type": "code",
        "colab": {}
      },
      "source": [
        "from keras.models import Sequential\n",
        "from keras.layers import Flatten, Dense, Embedding"
      ],
      "execution_count": 0,
      "outputs": []
    },
    {
      "cell_type": "code",
      "metadata": {
        "id": "PwVV1fvF0TIY",
        "colab_type": "code",
        "outputId": "b8f17d46-6cd3-49ba-af68-087ce2e3a88d",
        "colab": {
          "base_uri": "https://localhost:8080/",
          "height": 105
        }
      },
      "source": [
        "model = Sequential()\n",
        "model.add(Embedding(10000, 8, input_length=maxlen))"
      ],
      "execution_count": 0,
      "outputs": [
        {
          "output_type": "stream",
          "text": [
            "WARNING:tensorflow:From /usr/local/lib/python3.6/dist-packages/keras/backend/tensorflow_backend.py:541: The name tf.placeholder is deprecated. Please use tf.compat.v1.placeholder instead.\n",
            "\n",
            "WARNING:tensorflow:From /usr/local/lib/python3.6/dist-packages/keras/backend/tensorflow_backend.py:4432: The name tf.random_uniform is deprecated. Please use tf.random.uniform instead.\n",
            "\n"
          ],
          "name": "stdout"
        }
      ]
    },
    {
      "cell_type": "code",
      "metadata": {
        "id": "qCt5Ykwj02qg",
        "colab_type": "code",
        "outputId": "6bf1bfee-de5a-4914-b099-cf958fb965bd",
        "colab": {
          "base_uri": "https://localhost:8080/",
          "height": 394
        }
      },
      "source": [
        "model.add(Flatten())\n",
        "model.add(Dense(1, activation='sigmoid'))\n",
        "model.compile(optimizer='rmsprop', loss='binary_crossentropy', metrics=['acc'])\n",
        "model.summary()"
      ],
      "execution_count": 0,
      "outputs": [
        {
          "output_type": "stream",
          "text": [
            "WARNING:tensorflow:From /usr/local/lib/python3.6/dist-packages/keras/optimizers.py:793: The name tf.train.Optimizer is deprecated. Please use tf.compat.v1.train.Optimizer instead.\n",
            "\n",
            "WARNING:tensorflow:From /usr/local/lib/python3.6/dist-packages/keras/backend/tensorflow_backend.py:3657: The name tf.log is deprecated. Please use tf.math.log instead.\n",
            "\n",
            "WARNING:tensorflow:From /usr/local/lib/python3.6/dist-packages/tensorflow/python/ops/nn_impl.py:180: add_dispatch_support.<locals>.wrapper (from tensorflow.python.ops.array_ops) is deprecated and will be removed in a future version.\n",
            "Instructions for updating:\n",
            "Use tf.where in 2.0, which has the same broadcast rule as np.where\n",
            "Model: \"sequential_3\"\n",
            "_________________________________________________________________\n",
            "Layer (type)                 Output Shape              Param #   \n",
            "=================================================================\n",
            "embedding_1 (Embedding)      (None, 20, 8)             80000     \n",
            "_________________________________________________________________\n",
            "flatten_1 (Flatten)          (None, 160)               0         \n",
            "_________________________________________________________________\n",
            "dense_1 (Dense)              (None, 1)                 161       \n",
            "=================================================================\n",
            "Total params: 80,161\n",
            "Trainable params: 80,161\n",
            "Non-trainable params: 0\n",
            "_________________________________________________________________\n"
          ],
          "name": "stdout"
        }
      ]
    },
    {
      "cell_type": "code",
      "metadata": {
        "id": "DevENSQu1mwV",
        "colab_type": "code",
        "outputId": "b330d91d-d875-446f-f1a9-133a85ce5d7d",
        "colab": {
          "base_uri": "https://localhost:8080/",
          "height": 428
        }
      },
      "source": [
        "history = model.fit(x_train, y_train, epochs=10, batch_size=32,validation_split=0.2)"
      ],
      "execution_count": 0,
      "outputs": [
        {
          "output_type": "stream",
          "text": [
            "WARNING:tensorflow:From /usr/local/lib/python3.6/dist-packages/keras/backend/tensorflow_backend.py:1033: The name tf.assign_add is deprecated. Please use tf.compat.v1.assign_add instead.\n",
            "\n",
            "Train on 20000 samples, validate on 5000 samples\n",
            "Epoch 1/10\n",
            "20000/20000 [==============================] - 2s 93us/step - loss: 0.6609 - acc: 0.6351 - val_loss: 0.6011 - val_acc: 0.7024\n",
            "Epoch 2/10\n",
            "20000/20000 [==============================] - 1s 66us/step - loss: 0.5273 - acc: 0.7549 - val_loss: 0.5171 - val_acc: 0.7386\n",
            "Epoch 3/10\n",
            "20000/20000 [==============================] - 1s 64us/step - loss: 0.4564 - acc: 0.7896 - val_loss: 0.4968 - val_acc: 0.7476\n",
            "Epoch 4/10\n",
            "20000/20000 [==============================] - 1s 65us/step - loss: 0.4223 - acc: 0.8059 - val_loss: 0.4939 - val_acc: 0.7536\n",
            "Epoch 5/10\n",
            "20000/20000 [==============================] - 1s 62us/step - loss: 0.3990 - acc: 0.8216 - val_loss: 0.4943 - val_acc: 0.7542\n",
            "Epoch 6/10\n",
            "20000/20000 [==============================] - 1s 63us/step - loss: 0.3796 - acc: 0.8321 - val_loss: 0.4963 - val_acc: 0.7600\n",
            "Epoch 7/10\n",
            "20000/20000 [==============================] - 1s 63us/step - loss: 0.3617 - acc: 0.8416 - val_loss: 0.5001 - val_acc: 0.7604\n",
            "Epoch 8/10\n",
            "20000/20000 [==============================] - 1s 64us/step - loss: 0.3446 - acc: 0.8500 - val_loss: 0.5035 - val_acc: 0.7590\n",
            "Epoch 9/10\n",
            "20000/20000 [==============================] - 1s 64us/step - loss: 0.3281 - acc: 0.8605 - val_loss: 0.5104 - val_acc: 0.7564\n",
            "Epoch 10/10\n",
            "20000/20000 [==============================] - 1s 65us/step - loss: 0.3115 - acc: 0.8690 - val_loss: 0.5167 - val_acc: 0.7594\n"
          ],
          "name": "stdout"
        }
      ]
    },
    {
      "cell_type": "markdown",
      "metadata": {
        "id": "hsRty0bR_cZP",
        "colab_type": "text"
      },
      "source": [
        "<h2> Using pre-trained embedding layer with GloVe </h2>"
      ]
    },
    {
      "cell_type": "code",
      "metadata": {
        "id": "ioyYtXvp4tUg",
        "colab_type": "code",
        "colab": {}
      },
      "source": [
        "import os"
      ],
      "execution_count": 0,
      "outputs": []
    },
    {
      "cell_type": "code",
      "metadata": {
        "id": "lJuxiCM8Wjwf",
        "colab_type": "code",
        "colab": {}
      },
      "source": [
        "imdb_dir = '/content/gdrive/My Drive/imdb/aclImdb'\n",
        "train_dir = os.path.join(imdb_dir, 'train')"
      ],
      "execution_count": 0,
      "outputs": []
    },
    {
      "cell_type": "code",
      "metadata": {
        "id": "FxPZkK7SXDsB",
        "colab_type": "code",
        "colab": {}
      },
      "source": [
        "labels, texts = [], []"
      ],
      "execution_count": 0,
      "outputs": []
    },
    {
      "cell_type": "code",
      "metadata": {
        "id": "891BF_ZiXG4L",
        "colab_type": "code",
        "colab": {}
      },
      "source": [
        "for label_type in ['neg', 'pos']:\n",
        "    dir_name = os.path.join(train_dir, label_type)\n",
        "    counter = 0\n",
        "    for fname in os.listdir(dir_name):\n",
        "        if fname[-4:] == \".txt\":\n",
        "            f = open(os.path.join(dir_name, fname))\n",
        "            texts.append(f.read())\n",
        "            f.close\n",
        "            labels.append(0) if label_type == \"neg\" else labels.append(1)\n",
        "                "
      ],
      "execution_count": 0,
      "outputs": []
    },
    {
      "cell_type": "markdown",
      "metadata": {
        "id": "huhlFAEbvY9t",
        "colab_type": "text"
      },
      "source": [
        "<h3> Tokenizing text from raw Imdb </h3>"
      ]
    },
    {
      "cell_type": "code",
      "metadata": {
        "id": "Qx49jl_8tEVe",
        "colab_type": "code",
        "colab": {}
      },
      "source": [
        "from keras_preprocessing.text import Tokenizer\n",
        "from keras.preprocessing.sequence import pad_sequences"
      ],
      "execution_count": 0,
      "outputs": []
    },
    {
      "cell_type": "code",
      "metadata": {
        "id": "MdoFnFH1u81D",
        "colab_type": "code",
        "colab": {}
      },
      "source": [
        "maxlen = 100\n",
        "training_samples = 200\n",
        "validation_samples = 5000\n",
        "max_words = 10000"
      ],
      "execution_count": 0,
      "outputs": []
    },
    {
      "cell_type": "code",
      "metadata": {
        "id": "YPw3hOW8wXWF",
        "colab_type": "code",
        "colab": {}
      },
      "source": [
        "tokenizer = Tokenizer(num_words=max_words)\n",
        "tokenizer.fit_on_texts(texts)\n",
        "sequences = tokenizer.texts_to_sequences(texts)"
      ],
      "execution_count": 0,
      "outputs": []
    },
    {
      "cell_type": "code",
      "metadata": {
        "id": "mVVS7jhfwzLs",
        "colab_type": "code",
        "colab": {}
      },
      "source": [
        "word_index = tokenizer.word_index"
      ],
      "execution_count": 0,
      "outputs": []
    },
    {
      "cell_type": "code",
      "metadata": {
        "id": "yJrs2Nh_w6GK",
        "colab_type": "code",
        "outputId": "3c6c4f73-4348-4551-d742-8dc27483b137",
        "colab": {
          "base_uri": "https://localhost:8080/",
          "height": 34
        }
      },
      "source": [
        "data = pad_sequences(sequences, maxlen=max)"
      ],
      "execution_count": 0,
      "outputs": [
        {
          "output_type": "execute_result",
          "data": {
            "text/plain": [
              "(6374, 100)"
            ]
          },
          "metadata": {
            "tags": []
          },
          "execution_count": 29
        }
      ]
    },
    {
      "cell_type": "code",
      "metadata": {
        "id": "_gW3-yffxHvE",
        "colab_type": "code",
        "colab": {}
      },
      "source": [
        "labels = np.asarray(labels)"
      ],
      "execution_count": 0,
      "outputs": []
    },
    {
      "cell_type": "code",
      "metadata": {
        "id": "cfngcbfcyEmR",
        "colab_type": "code",
        "colab": {}
      },
      "source": [
        "indices = np.arange(data.shape[0])"
      ],
      "execution_count": 0,
      "outputs": []
    },
    {
      "cell_type": "code",
      "metadata": {
        "id": "zxPCNsWiyPQy",
        "colab_type": "code",
        "colab": {}
      },
      "source": [
        "np.random.shuffle(indices)\n",
        "data = data[indices]\n",
        "labels = labels[indices]"
      ],
      "execution_count": 0,
      "outputs": []
    },
    {
      "cell_type": "code",
      "metadata": {
        "id": "Y3TjdNxjyQFj",
        "colab_type": "code",
        "colab": {}
      },
      "source": [
        "x_train = data[:training_samples]\n",
        "y_train =  labels[:training_samples]\n",
        "\n",
        "x_val = data[training_samples : training_samples + validation_samples]\n",
        "y_val = labels[training_samples : training_samples + validation_samples]"
      ],
      "execution_count": 0,
      "outputs": []
    },
    {
      "cell_type": "markdown",
      "metadata": {
        "id": "prsfo3FwzELV",
        "colab_type": "text"
      },
      "source": [
        "<h3> Parsing glove embedding file </h3>"
      ]
    },
    {
      "cell_type": "code",
      "metadata": {
        "id": "rektqkS_zBRX",
        "colab_type": "code",
        "colab": {}
      },
      "source": [
        "glove_dir = '/content/gdrive/My Drive/GloVe/glove.6B'\n",
        "\n",
        "embeddings_index = {}"
      ],
      "execution_count": 0,
      "outputs": []
    },
    {
      "cell_type": "code",
      "metadata": {
        "id": "TWlIzGm7ztwa",
        "colab_type": "code",
        "colab": {}
      },
      "source": [
        "f = open(os.path.join(glove_dir, 'glove.6B.100d.txt'))"
      ],
      "execution_count": 0,
      "outputs": []
    },
    {
      "cell_type": "code",
      "metadata": {
        "id": "WcCBBNF4z2rR",
        "colab_type": "code",
        "colab": {}
      },
      "source": [
        "for line in f:\n",
        "    values = line.split()\n",
        "    word = values[0]\n",
        "    coefs = np.asarray(values[1:], dtype='float32')\n",
        "    embeddings_index[word] = coefs\n",
        "f.close()"
      ],
      "execution_count": 0,
      "outputs": []
    },
    {
      "cell_type": "code",
      "metadata": {
        "id": "hgJlQJHG0WOx",
        "colab_type": "code",
        "colab": {}
      },
      "source": [
        "embedding_dim = 100\n",
        "\n",
        "embedding_matrix = np.zeros((max_words, embedding_dim))\n",
        "for word, i in word_index.items():\n",
        "    embedding_vector = embeddings_index.get(word)\n",
        "    if embedding_vector is not None :\n",
        "        embedding_matrix[i] = embedding_vector"
      ],
      "execution_count": 0,
      "outputs": []
    },
    {
      "cell_type": "markdown",
      "metadata": {
        "id": "rcArbV0R2VuW",
        "colab_type": "text"
      },
      "source": [
        "<h3> Model Creation </h3>"
      ]
    },
    {
      "cell_type": "code",
      "metadata": {
        "id": "lzBNLrQz2IPj",
        "colab_type": "code",
        "colab": {}
      },
      "source": [
        "from keras.models import Sequential\n",
        "from keras.layers import Embedding,Flatten,Dense"
      ],
      "execution_count": 0,
      "outputs": []
    },
    {
      "cell_type": "code",
      "metadata": {
        "id": "uFnPfZVW2f4E",
        "colab_type": "code",
        "outputId": "3e13926d-3088-44d0-8331-7a5c788636ca",
        "colab": {
          "base_uri": "https://localhost:8080/",
          "height": 377
        }
      },
      "source": [
        "model = Sequential()\n",
        "model.add(Embedding(max_words, embedding_dim, input_length=maxlen))\n",
        "model.add(Flatten())\n",
        "model.add(Dense(32, activation=\"relu\"))\n",
        "model.add(Dense(1, activation=\"sigmoid\"))\n",
        "model.summary()"
      ],
      "execution_count": 0,
      "outputs": [
        {
          "output_type": "stream",
          "text": [
            "WARNING:tensorflow:From /usr/local/lib/python3.6/dist-packages/keras/backend/tensorflow_backend.py:541: The name tf.placeholder is deprecated. Please use tf.compat.v1.placeholder instead.\n",
            "\n",
            "WARNING:tensorflow:From /usr/local/lib/python3.6/dist-packages/keras/backend/tensorflow_backend.py:4432: The name tf.random_uniform is deprecated. Please use tf.random.uniform instead.\n",
            "\n",
            "Model: \"sequential_2\"\n",
            "_________________________________________________________________\n",
            "Layer (type)                 Output Shape              Param #   \n",
            "=================================================================\n",
            "embedding_1 (Embedding)      (None, 100, 100)          1000000   \n",
            "_________________________________________________________________\n",
            "flatten_1 (Flatten)          (None, 10000)             0         \n",
            "_________________________________________________________________\n",
            "dense_1 (Dense)              (None, 32)                320032    \n",
            "_________________________________________________________________\n",
            "dense_2 (Dense)              (None, 1)                 33        \n",
            "=================================================================\n",
            "Total params: 1,320,065\n",
            "Trainable params: 1,320,065\n",
            "Non-trainable params: 0\n",
            "_________________________________________________________________\n"
          ],
          "name": "stdout"
        }
      ]
    },
    {
      "cell_type": "code",
      "metadata": {
        "id": "Mdr_xzxn29fo",
        "colab_type": "code",
        "outputId": "a5800a5a-574f-40a0-8cba-ee79cc180e64",
        "colab": {
          "base_uri": "https://localhost:8080/",
          "height": 105
        }
      },
      "source": [
        "model.layers[0].set_weights([embedding_matrix])\n",
        "model.layers[0].trainable = False"
      ],
      "execution_count": 0,
      "outputs": [
        {
          "output_type": "stream",
          "text": [
            "WARNING:tensorflow:From /usr/local/lib/python3.6/dist-packages/keras/backend/tensorflow_backend.py:190: The name tf.get_default_session is deprecated. Please use tf.compat.v1.get_default_session instead.\n",
            "\n",
            "WARNING:tensorflow:From /usr/local/lib/python3.6/dist-packages/keras/backend/tensorflow_backend.py:197: The name tf.ConfigProto is deprecated. Please use tf.compat.v1.ConfigProto instead.\n",
            "\n"
          ],
          "name": "stdout"
        }
      ]
    },
    {
      "cell_type": "code",
      "metadata": {
        "id": "kUyfpTb63Uvn",
        "colab_type": "code",
        "outputId": "4eaabda7-d1b8-47c2-8543-b9c3174088b2",
        "colab": {
          "base_uri": "https://localhost:8080/",
          "height": 122
        }
      },
      "source": [
        "model.compile(optimizer=\"rmsprop\", loss=\"binary_crossentropy\", metrics=['acc'])"
      ],
      "execution_count": 0,
      "outputs": [
        {
          "output_type": "stream",
          "text": [
            "WARNING:tensorflow:From /usr/local/lib/python3.6/dist-packages/keras/optimizers.py:793: The name tf.train.Optimizer is deprecated. Please use tf.compat.v1.train.Optimizer instead.\n",
            "\n",
            "WARNING:tensorflow:From /usr/local/lib/python3.6/dist-packages/tensorflow/python/ops/nn_impl.py:180: add_dispatch_support.<locals>.wrapper (from tensorflow.python.ops.array_ops) is deprecated and will be removed in a future version.\n",
            "Instructions for updating:\n",
            "Use tf.where in 2.0, which has the same broadcast rule as np.where\n"
          ],
          "name": "stdout"
        }
      ]
    },
    {
      "cell_type": "code",
      "metadata": {
        "id": "81TAX0iD3isF",
        "colab_type": "code",
        "outputId": "73294d58-4bae-48bc-894d-c0384a68a56f",
        "colab": {
          "base_uri": "https://localhost:8080/",
          "height": 374
        }
      },
      "source": [
        "history = model.fit(x_train, y_train, epochs = 10, batch_size = 32, validation_data = (x_val,y_val))"
      ],
      "execution_count": 0,
      "outputs": [
        {
          "output_type": "stream",
          "text": [
            "Train on 200 samples, validate on 5000 samples\n",
            "Epoch 1/10\n",
            "200/200 [==============================] - 1s 4ms/step - loss: 2.9560 - acc: 0.6100 - val_loss: 0.5999 - val_acc: 0.7052\n",
            "Epoch 2/10\n",
            "200/200 [==============================] - 0s 2ms/step - loss: 0.4617 - acc: 0.8100 - val_loss: 0.5836 - val_acc: 0.7392\n",
            "Epoch 3/10\n",
            "200/200 [==============================] - 0s 2ms/step - loss: 0.3239 - acc: 0.8550 - val_loss: 0.8761 - val_acc: 0.3830\n",
            "Epoch 4/10\n",
            "200/200 [==============================] - 0s 2ms/step - loss: 0.2225 - acc: 0.9150 - val_loss: 0.8610 - val_acc: 0.7384\n",
            "Epoch 5/10\n",
            "200/200 [==============================] - 0s 2ms/step - loss: 0.1301 - acc: 0.9650 - val_loss: 0.5841 - val_acc: 0.7354\n",
            "Epoch 6/10\n",
            "200/200 [==============================] - 0s 2ms/step - loss: 0.0581 - acc: 1.0000 - val_loss: 0.6219 - val_acc: 0.6594\n",
            "Epoch 7/10\n",
            "200/200 [==============================] - 0s 2ms/step - loss: 0.0499 - acc: 1.0000 - val_loss: 0.6217 - val_acc: 0.7358\n",
            "Epoch 8/10\n",
            "200/200 [==============================] - 0s 2ms/step - loss: 0.0207 - acc: 1.0000 - val_loss: 0.8437 - val_acc: 0.7446\n",
            "Epoch 9/10\n",
            "200/200 [==============================] - 0s 2ms/step - loss: 0.0281 - acc: 1.0000 - val_loss: 0.9664 - val_acc: 0.7430\n",
            "Epoch 10/10\n",
            "200/200 [==============================] - 0s 2ms/step - loss: 0.0122 - acc: 1.0000 - val_loss: 0.6878 - val_acc: 0.6468\n"
          ],
          "name": "stdout"
        }
      ]
    },
    {
      "cell_type": "markdown",
      "metadata": {
        "id": "1CZrWrw24A9Q",
        "colab_type": "text"
      },
      "source": [
        "<h3> Plotting results </h3>"
      ]
    },
    {
      "cell_type": "code",
      "metadata": {
        "id": "Gw-4yKw831w6",
        "colab_type": "code",
        "colab": {}
      },
      "source": [
        "acc = history.history['acc']\n",
        "val_acc = history.history['val_acc']\n",
        "loss = history.history['loss']\n",
        "val_loss = history.history['val_loss']"
      ],
      "execution_count": 0,
      "outputs": []
    },
    {
      "cell_type": "code",
      "metadata": {
        "id": "iHNa2CAs4cIO",
        "colab_type": "code",
        "colab": {}
      },
      "source": [
        "epochs = range(1, len(acc)+1)"
      ],
      "execution_count": 0,
      "outputs": []
    },
    {
      "cell_type": "code",
      "metadata": {
        "id": "MtbbIBHl4jVm",
        "colab_type": "code",
        "outputId": "3bdd5abc-af98-40af-e0d1-f28e09855511",
        "colab": {
          "base_uri": "https://localhost:8080/",
          "height": 545
        }
      },
      "source": [
        "plt.plot(epochs, acc, 'bo', label ='Training acc')\n",
        "plt.plot(epochs, val_acc, 'b', label ='Validation acc')\n",
        "plt.title(\"Validation and Training accuracy\")\n",
        "plt.legend()\n",
        "\n",
        "plt.figure()\n",
        "\n",
        "plt.plot(epochs, loss, 'bo', label ='Training loss')\n",
        "plt.plot(epochs, val_loss, 'b', label ='Validation loss')\n",
        "plt.title(\"Validation and Training loss\")\n",
        "plt.legend()\n",
        "\n",
        "plt.show()"
      ],
      "execution_count": 0,
      "outputs": [
        {
          "output_type": "display_data",
          "data": {
            "image/png": "[encoded data removed]",
            "text/plain": [
              "<Figure size 432x288 with 1 Axes>"
            ]
          },
          "metadata": {
            "tags": []
          }
        },
        {
          "output_type": "display_data",
          "data": {
            "image/png": "[encoded data removed]",
            "text/plain": [
              "<Figure size 432x288 with 1 Axes>"
            ]
          },
          "metadata": {
            "tags": []
          }
        }
      ]
    },
    {
      "cell_type": "code",
      "metadata": {
        "id": "JJetMggw5HKh",
        "colab_type": "code",
        "colab": {}
      },
      "source": [
        ""
      ],
      "execution_count": 0,
      "outputs": []
    }
  ]
}